{
  "nbformat": 4,
  "nbformat_minor": 0,
  "metadata": {
    "colab": {
      "provenance": [],
      "authorship_tag": "ABX9TyMUdKiHo/A0KSMa/JcwEknR",
      "include_colab_link": true
    },
    "kernelspec": {
      "name": "python3",
      "display_name": "Python 3"
    },
    "language_info": {
      "name": "python"
    }
  },
  "cells": [
    {
      "cell_type": "markdown",
      "metadata": {
        "id": "view-in-github",
        "colab_type": "text"
      },
      "source": [
        "<a href=\"https://colab.research.google.com/github/MuhammadHamzakarnal/assignment_1_python/blob/main/Assignment_1.ipynb\" target=\"_parent\"><img src=\"https://colab.research.google.com/assets/colab-badge.svg\" alt=\"Open In Colab\"/></a>"
      ]
    },
    {
      "cell_type": "markdown",
      "source": [
        "Assignment 1"
      ],
      "metadata": {
        "id": "n0ky9x6xxQ4O"
      }
    },
    {
      "cell_type": "code",
      "execution_count": 1,
      "metadata": {
        "colab": {
          "base_uri": "https://localhost:8080/"
        },
        "id": "WtZgy1E_xFhD",
        "outputId": "9540f2f9-99ca-43fe-bf6b-59a6e3d61b09"
      },
      "outputs": [
        {
          "output_type": "stream",
          "name": "stdout",
          "text": [
            "This is a Laptop\n",
            "I am Muhammad Hamza student of Giaic\n",
            "First Python Assignment\n"
          ]
        }
      ],
      "source": [
        "# Assignment 1 Muhammad Hamza - Thursday Morning Python String Assignment\n",
        "\n",
        "single_qutoes = ('This is a Laptop')\n",
        "Double_qutoes = (\"I am Muhammad Hamza student of Giaic\")\n",
        "Triple_qutoes = (\"\"\"First Python Assignment\"\"\")\n",
        "\n",
        "print(single_qutoes)\n",
        "print(Double_qutoes)\n",
        "print(Triple_qutoes)\n"
      ]
    },
    {
      "cell_type": "code",
      "source": [
        "# Assignment 2 Muhammad Hamza - Thursday Morning Python String Assignment\n",
        "\n",
        "Full_name = \"Muhammad Hamza\"\n",
        "print(Full_name.upper())\n",
        "print(Full_name.lower())\n",
        "print(Full_name.title())\n",
        "\n",
        "messy_text = \"Python programming is fun!\"\n",
        "print(messy_text.strip())\n",
        "print(messy_text.replace(\"fun\", \"amazing\"))\n",
        "print(messy_text.count(\"i\"))\n",
        "\n",
        "sentence = \"The quick brown fox jumps over the lazy dog\"\n",
        "print(sentence.split())\n",
        "print(\"-\".join(sentence.split()))\n",
        "print(sentence.startswith(\"The\"))\n",
        "print(sentence.find(\"fox\"))\n"
      ],
      "metadata": {
        "colab": {
          "base_uri": "https://localhost:8080/"
        },
        "id": "_d6iVoYUxoav",
        "outputId": "48be5f6b-58d6-4de7-c3e3-07736178fd6e"
      },
      "execution_count": 4,
      "outputs": [
        {
          "output_type": "stream",
          "name": "stdout",
          "text": [
            "MUHAMMAD HAMZA\n",
            "muhammad hamza\n",
            "Muhammad Hamza\n",
            "Python programming is fun!\n",
            "Python programming is amazing!\n",
            "2\n",
            "['The', 'quick', 'brown', 'fox', 'jumps', 'over', 'the', 'lazy', 'dog']\n",
            "The-quick-brown-fox-jumps-over-the-lazy-dog\n",
            "True\n",
            "16\n"
          ]
        }
      ]
    },
    {
      "cell_type": "code",
      "source": [
        "# Assignment 3 Muhammad Hamza - Thursday Morning Python String Assignment\n",
        "\n",
        "Myname: str = \"Muhammad Hamza\"\n",
        "myAge: int = 21\n",
        "myfavprogramminglanguage: str = \"Next.js\"\n",
        "\n",
        "print(f\"My name is {Myname}, I am {myAge} years old, and my favorite programming language is {myfavprogramminglanguage}.\")\n",
        "print(f\"I enjoy programming in {myfavprogramminglanguage}, it's my favorite.\")\n",
        "print(f\"In 5 years, I will be {myAge + 5} years old.\")\n"
      ],
      "metadata": {
        "colab": {
          "base_uri": "https://localhost:8080/"
        },
        "id": "dZ3YPDd8x0pg",
        "outputId": "82c022e6-411c-4362-e6eb-694688abe01d"
      },
      "execution_count": 3,
      "outputs": [
        {
          "output_type": "stream",
          "name": "stdout",
          "text": [
            "My name is Muhammad Hamza, I am 21 years old, and my favorite programming language is Next.js.\n",
            "I enjoy programming in Next.js, it's my favorite.\n",
            "In 5 years, I will be 26 years old.\n"
          ]
        }
      ]
    },
    {
      "cell_type": "code",
      "source": [
        "# Assignment 4 Muhammad Hamza - Thursday Morning Python String Assignment\n",
        "\n",
        "first_name: str = input(\"Enter your first name: \").strip().capitalize()\n",
        "last_name: str = input(\"Enter your last name: \").strip().capitalize()\n",
        "birth_year: int = int(input(\"Enter your birth year: \"))\n",
        "current_year = 2025\n",
        "age = current_year - birth_year\n",
        "username = f\"{first_name[0].lower()}{last_name.lower()}{birth_year}\"\n",
        "profile_message = f\"profile: {first_name} {last_name}, Age {age}; username: {username}\"\n",
        "print(profile_message)\n"
      ],
      "metadata": {
        "id": "kysXDQ4AyN6r"
      },
      "execution_count": null,
      "outputs": []
    }
  ]
}